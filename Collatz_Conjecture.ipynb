{
 "cells": [
  {
   "cell_type": "code",
   "execution_count": 1,
   "id": "6f6fc53e",
   "metadata": {},
   "outputs": [],
   "source": [
    "#Collataz Conjecture(3n+1 conjecture)"
   ]
  },
  {
   "cell_type": "code",
   "execution_count": 3,
   "id": "82dec2af",
   "metadata": {},
   "outputs": [],
   "source": [
    "\"\"\"The Collatz conjecture or 3x + 1 problem in mathematics asks whether repeating \n",
    "two simple arithmetic operations will eventually transform every positive integer into one. \n",
    "It concerns sequences of integers in which each term is obtained from the previous term as follows: \n",
    "if the previous term is even, the next term is one half of the previous term. \n",
    "If the previous term is odd, the next term is 3 times the previous term plus 1. \n",
    "The conjecture is that these sequences always reach 1,\n",
    "no matter which positive integer is chosen to start the sequence.\"\"\";\n"
   ]
  },
  {
   "cell_type": "code",
   "execution_count": 5,
   "id": "4a708903",
   "metadata": {},
   "outputs": [],
   "source": [
    "def collatz_conj(n): 
                       
    "    k=0\n",
    "    while n!=1:\n",
    "        \n",
    "        if(n%2==0):\n",
    "            n=n/2\n",
    "            print(n)\n",
    "            \n",
    "        else:\n",
    "            n=(3*n+1)/2\n",
    "            print(n)\n",
    "        k=k+1\n",
    "    print(\"Cycles=\"+' '+ str(k))\n",
    "        "
   ]
  },
  {
   "cell_type": "code",
   "execution_count": 10,
   "id": "e04e91f8",
   "metadata": {},
   "outputs": [
    {
     "name": "stdout",
     "output_type": "stream",
     "text": [
      "4.0\n",
      "2.0\n",
      "1.0\n",
      "Cycles= 3\n"
     ]
    }
   ],
   "source": [
    "collatz_conj(8)"
   ]
  },
  {
   "cell_type": "code",
   "execution_count": 13,
   "id": "4fe1cc60",
   "metadata": {},
   "outputs": [],
   "source": [
    "#collatz_conj(101)"
   ]
  },
  {
   "cell_type": "code",
   "execution_count": null,
   "id": "10246457",
   "metadata": {},
   "outputs": [],
   "source": []
  }
 ],
 "metadata": {
  "kernelspec": {
   "display_name": "Python 3",
   "language": "python",
   "name": "python3"
  },
  "language_info": {
   "codemirror_mode": {
    "name": "ipython",
    "version": 3
   },
   "file_extension": ".py",
   "mimetype": "text/x-python",
   "name": "python",
   "nbconvert_exporter": "python",
   "pygments_lexer": "ipython3",
   "version": "3.8.8"
  }
 },
 "nbformat": 4,
 "nbformat_minor": 5
}
