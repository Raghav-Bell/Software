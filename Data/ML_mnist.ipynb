{
  "cells": [
    {
      "cell_type": "markdown",
      "metadata": {
        "id": "view-in-github",
        "colab_type": "text"
      },
      "source": [
        "<a href=\"https://colab.research.google.com/github/Raghav-Bell/Software/blob/main/Data/ML_mnist.ipynb\" target=\"_parent\"><img src=\"https://colab.research.google.com/assets/colab-badge.svg\" alt=\"Open In Colab\"/></a>"
      ]
    },
    {
      "cell_type": "markdown",
      "source": [
        "![python version](https://img.shields.io/badge/python-v3.9.15-green)\n",
        "![arxive](https://img.shields.io/badge/arXiv-2008.10400v2-orange)\n",
        "![tensorflow version](https://img.shields.io/badge/tensorflow-v2.11.0-green)\n",
        "![matplotlib version](https://img.shields.io/badge/matplotlib-v3.6.3-blue)"
      ],
      "metadata": {
        "id": "ok5Dk9_bxTdb"
      },
      "id": "ok5Dk9_bxTdb"
    },
    {
      "cell_type": "markdown",
      "source": [
        "<p>This Colab/Jupyter notebook demonstrates  simple CNNs based MNIST digit recognition as discussed in this paper <a href=\"https://ar5iv.labs.arxiv.org/html/2008.10400v2\">arXiv 2008.10400v2</a>. In this paper max accuracy acheived is 99.91%.I only demostrated M5 model , with 50 epochs reader can try other models with 150 epochs.</p>"
      ],
      "metadata": {
        "id": "pJwy747M9kQI"
      },
      "id": "pJwy747M9kQI"
    },
    {
      "cell_type": "code",
      "execution_count": 1,
      "id": "a4abcd01",
      "metadata": {
        "id": "a4abcd01"
      },
      "outputs": [],
      "source": [
        "import tensorflow as tf\n",
        "from tensorflow import keras\n",
        "from tensorflow.keras import layers\n",
        "import matplotlib.pyplot as plt"
      ]
    },
    {
      "cell_type": "code",
      "execution_count": 2,
      "id": "a1ec6007",
      "metadata": {
        "id": "a1ec6007"
      },
      "outputs": [],
      "source": [
        "#Fetching MNIST dataset from tensorflow dataset\n",
        "mnist_data= tf.keras.datasets.mnist"
      ]
    },
    {
      "cell_type": "code",
      "execution_count": 3,
      "id": "5195ab4a",
      "metadata": {
        "id": "5195ab4a"
      },
      "outputs": [],
      "source": [
        "(x_train, y_train),(x_test, y_test) = mnist_data.load_data()#Spliting dataset b/w train and test set\n",
        "x_train, x_test = x_train / 255.0, x_test / 255.0 #Making image size (28,28)"
      ]
    },
    {
      "cell_type": "markdown",
      "source": [
        "#M3"
      ],
      "metadata": {
        "id": "zkJlgy_nh_5O"
      },
      "id": "zkJlgy_nh_5O"
    },
    {
      "cell_type": "code",
      "execution_count": 5,
      "id": "d6f8c66e",
      "metadata": {
        "id": "d6f8c66e"
      },
      "outputs": [],
      "source": [
        "model_M3 =keras.Sequential() #Initialising sequential model\n",
        "model_M3.add(layers.InputLayer((28, 28,1))) #Making input layer.\n",
        "model_M3.add(layers.Conv2D(filters =32,kernel_size=(3,3),activation=\"relu\" ,name=\"layer1\")) #Making 1st Conv2d layer with relu activation.\n",
        "model_M3.add(layers.BatchNormalization()) #Making first BatchNorm2d layer .like wise all below layers.\n",
        "model_M3.add(layers.Conv2D(filters =48,kernel_size=(3,3),activation=\"relu\" ,name=\"layer2\"))\n",
        "model_M3.add(layers.BatchNormalization())\n",
        "model_M3.add(layers.Conv2D(filters =64,kernel_size=(3,3),activation=\"relu\" ,name=\"layer3\"))\n",
        "model_M3.add(layers.BatchNormalization())\n",
        "model_M3.add(layers.Conv2D(filters =80,kernel_size=(3,3),activation=\"relu\" ,name=\"layer4\"))\n",
        "model_M3.add(layers.BatchNormalization())\n",
        "model_M3.add(layers.Conv2D(filters =96,kernel_size=(3,3),activation=\"relu\" ,name=\"layer5\"))\n",
        "model_M3.add(layers.BatchNormalization())\n",
        "model_M3.add(layers.Conv2D(filters =112,kernel_size=(3,3),activation=\"relu\" ,name=\"layer6\"))\n",
        "model_M3.add(layers.BatchNormalization())\n",
        "model_M3.add(layers.Conv2D(filters =128,kernel_size=(3,3),activation=\"relu\" ,name=\"layer7\"))\n",
        "model_M3.add(layers.BatchNormalization())\n",
        "model_M3.add(layers.Conv2D(filters =144,kernel_size=(3,3),activation=\"relu\" ,name=\"layer8\"))\n",
        "model_M3.add(layers.BatchNormalization())\n",
        "model_M3.add(layers.Conv2D(filters =160,kernel_size=(3,3),activation=\"relu\" ,name=\"layer9\"))\n",
        "model_M3.add(layers.BatchNormalization())\n",
        "model_M3.add(layers.Conv2D(filters =176,kernel_size=(3,3),activation=\"relu\" ,name=\"layer10\"))\n",
        "model_M3.add(layers.BatchNormalization())\n",
        "model_M3.add(layers.Dense(10)) #Making Linear /last layer .\n",
        "model_M3.add(layers.BatchNormalization())\n",
        "model_M3.add(layers.Flatten()) #Flattening output to compare with labels.\n"
      ]
    },
    {
      "cell_type": "code",
      "execution_count": 6,
      "id": "50a597be",
      "metadata": {
        "id": "50a597be"
      },
      "outputs": [],
      "source": [
        "#model_M3.summary()"
      ]
    },
    {
      "cell_type": "markdown",
      "source": [
        "#M5"
      ],
      "metadata": {
        "id": "xQxFjSf-i_RA"
      },
      "id": "xQxFjSf-i_RA"
    },
    {
      "cell_type": "code",
      "source": [
        "model_M5 =keras.Sequential()#Initialising sequential model\n",
        "model_M5.add(layers.InputLayer((28, 28,1)))#Making input layer.\n",
        "model_M5.add(layers.Conv2D(filters =32,kernel_size=(5,5),activation=\"relu\" ,name=\"layer1\"))#Making 1st Conv2d layer with relu activation.\n",
        "model_M5.add(layers.BatchNormalization())#Making first BatchNorm2d layer .like wise all below layers.\n",
        "model_M5.add(layers.Conv2D(filters =64,kernel_size=(5,5),activation=\"relu\" ,name=\"layer2\"))\n",
        "model_M5.add(layers.BatchNormalization())\n",
        "model_M5.add(layers.Conv2D(filters =96,kernel_size=(5,5),activation=\"relu\",name=\"layer3\" ))\n",
        "model_M5.add(layers.BatchNormalization())\n",
        "model_M5.add(layers.Conv2D(filters =128,kernel_size=(5,5),activation=\"relu\" ,name=\"layer4\"))\n",
        "model_M5.add(layers.BatchNormalization())\n",
        "model_M5.add(layers.Conv2D(filters =160,kernel_size=(5,5),activation=\"relu\" ,name=\"layer5\"))\n",
        "model_M5.add(layers.BatchNormalization())\n",
        "model_M5.add(layers.Dense(10))#Making Linear /last layer .\n",
        "model_M5.add(layers.BatchNormalization())\n",
        "model_M5.add(layers.Flatten())#Flattening output to compare with labels.\n",
        "#Note:We will train our M5 model for evaluation\n"
      ],
      "metadata": {
        "id": "lfDlwQLzi9nF"
      },
      "id": "lfDlwQLzi9nF",
      "execution_count": 7,
      "outputs": []
    },
    {
      "cell_type": "code",
      "source": [
        "model_M5.summary()"
      ],
      "metadata": {
        "colab": {
          "base_uri": "https://localhost:8080/"
        },
        "id": "nvw0iG1So6UX",
        "outputId": "01184c40-f7b4-4efe-febd-e761f90c6f1c"
      },
      "id": "nvw0iG1So6UX",
      "execution_count": 8,
      "outputs": [
        {
          "output_type": "stream",
          "name": "stdout",
          "text": [
            "Model: \"sequential_2\"\n",
            "_________________________________________________________________\n",
            " Layer (type)                Output Shape              Param #   \n",
            "=================================================================\n",
            " layer1 (Conv2D)             (None, 24, 24, 32)        832       \n",
            "                                                                 \n",
            " batch_normalization_22 (Bat  (None, 24, 24, 32)       128       \n",
            " chNormalization)                                                \n",
            "                                                                 \n",
            " layer2 (Conv2D)             (None, 20, 20, 64)        51264     \n",
            "                                                                 \n",
            " batch_normalization_23 (Bat  (None, 20, 20, 64)       256       \n",
            " chNormalization)                                                \n",
            "                                                                 \n",
            " layer3 (Conv2D)             (None, 16, 16, 96)        153696    \n",
            "                                                                 \n",
            " batch_normalization_24 (Bat  (None, 16, 16, 96)       384       \n",
            " chNormalization)                                                \n",
            "                                                                 \n",
            " layer4 (Conv2D)             (None, 12, 12, 128)       307328    \n",
            "                                                                 \n",
            " batch_normalization_25 (Bat  (None, 12, 12, 128)      512       \n",
            " chNormalization)                                                \n",
            "                                                                 \n",
            " layer5 (Conv2D)             (None, 8, 8, 160)         512160    \n",
            "                                                                 \n",
            " batch_normalization_26 (Bat  (None, 8, 8, 160)        640       \n",
            " chNormalization)                                                \n",
            "                                                                 \n",
            " dense_2 (Dense)             (None, 8, 8, 10)          1610      \n",
            "                                                                 \n",
            " batch_normalization_27 (Bat  (None, 8, 8, 10)         40        \n",
            " chNormalization)                                                \n",
            "                                                                 \n",
            " flatten_2 (Flatten)         (None, 640)               0         \n",
            "                                                                 \n",
            "=================================================================\n",
            "Total params: 1,028,850\n",
            "Trainable params: 1,027,870\n",
            "Non-trainable params: 980\n",
            "_________________________________________________________________\n"
          ]
        }
      ]
    },
    {
      "cell_type": "markdown",
      "source": [
        "#M7"
      ],
      "metadata": {
        "id": "h1_g3pMRjH7o"
      },
      "id": "h1_g3pMRjH7o"
    },
    {
      "cell_type": "code",
      "source": [
        "model_M7 =keras.Sequential()#Initialising sequential model\n",
        "model_M7.add(layers.InputLayer((28, 28,1)))#Making input layer.\n",
        "model_M7.add(layers.Conv2D(filters =48,kernel_size=(7,7),activation=\"relu\" ,name=\"layer1\"))#Making 1st Conv2d layer with relu activation.\n",
        "model_M7.add(layers.BatchNormalization())#Making first BatchNorm2d layer .like wise all below layers.\n",
        "model_M7.add(layers.Conv2D(filters =96,kernel_size=(7,7),activation=\"relu\" ,name=\"layer2\"))\n",
        "model_M7.add(layers.BatchNormalization())\n",
        "model_M7.add(layers.Conv2D(filters =144,kernel_size=(7,7),activation=\"relu\",name=\"layer3\" ))\n",
        "model_M7.add(layers.BatchNormalization())\n",
        "model_M7.add(layers.Conv2D(filters =192,kernel_size=(7,7),activation=\"relu\" ,name=\"layer4\"))\n",
        "model_M7.add(layers.BatchNormalization())\n",
        "model_M7.add(layers.Dense(10))#Making Linear /last layer .\n",
        "model_M7.add(layers.BatchNormalization())\n",
        "model_M7.add(layers.Flatten())#Flattening output to compare with labels.\n"
      ],
      "metadata": {
        "id": "vHJQ0Z1vjK8G"
      },
      "id": "vHJQ0Z1vjK8G",
      "execution_count": 9,
      "outputs": []
    },
    {
      "cell_type": "code",
      "source": [
        "#model_M7.summary()"
      ],
      "metadata": {
        "id": "xoPaghcOpEL2"
      },
      "id": "xoPaghcOpEL2",
      "execution_count": 10,
      "outputs": []
    },
    {
      "cell_type": "markdown",
      "source": [
        "#Optimization and Evaluation"
      ],
      "metadata": {
        "id": "T4yEuootiPqB"
      },
      "id": "T4yEuootiPqB"
    },
    {
      "cell_type": "code",
      "execution_count": 11,
      "id": "825892e5",
      "metadata": {
        "colab": {
          "base_uri": "https://localhost:8080/"
        },
        "id": "825892e5",
        "outputId": "bde5f046-4737-4e02-b6a3-b9dde3069120"
      },
      "outputs": [
        {
          "output_type": "stream",
          "name": "stdout",
          "text": [
            "Epoch 1/50\n",
            "1875/1875 [==============================] - 18s 8ms/step - loss: 0.3964 - accuracy: 0.9224\n",
            "Epoch 2/50\n",
            "1875/1875 [==============================] - 15s 8ms/step - loss: 0.1570 - accuracy: 0.9663\n",
            "Epoch 3/50\n",
            "1875/1875 [==============================] - 15s 8ms/step - loss: 0.1169 - accuracy: 0.9750\n",
            "Epoch 4/50\n",
            "1875/1875 [==============================] - 15s 8ms/step - loss: 0.0942 - accuracy: 0.9786\n",
            "Epoch 5/50\n",
            "1875/1875 [==============================] - 15s 8ms/step - loss: 0.0765 - accuracy: 0.9828\n",
            "Epoch 6/50\n",
            "1875/1875 [==============================] - 15s 8ms/step - loss: 0.0672 - accuracy: 0.9842\n",
            "Epoch 7/50\n",
            "1875/1875 [==============================] - 15s 8ms/step - loss: 0.0548 - accuracy: 0.9874\n",
            "Epoch 8/50\n",
            "1875/1875 [==============================] - 17s 9ms/step - loss: 0.0456 - accuracy: 0.9895\n",
            "Epoch 9/50\n",
            "1875/1875 [==============================] - 17s 9ms/step - loss: 0.0424 - accuracy: 0.9900\n",
            "Epoch 10/50\n",
            "1875/1875 [==============================] - 17s 9ms/step - loss: 0.0337 - accuracy: 0.9918\n",
            "Epoch 11/50\n",
            "1875/1875 [==============================] - 16s 9ms/step - loss: 0.0299 - accuracy: 0.9929\n",
            "Epoch 12/50\n",
            "1875/1875 [==============================] - 15s 8ms/step - loss: 0.0273 - accuracy: 0.9938\n",
            "Epoch 13/50\n",
            "1875/1875 [==============================] - 15s 8ms/step - loss: 0.0236 - accuracy: 0.9943\n",
            "Epoch 14/50\n",
            "1875/1875 [==============================] - 17s 9ms/step - loss: 0.0226 - accuracy: 0.9944\n",
            "Epoch 15/50\n",
            "1875/1875 [==============================] - 16s 8ms/step - loss: 0.0190 - accuracy: 0.9953\n",
            "Epoch 16/50\n",
            "1875/1875 [==============================] - 16s 8ms/step - loss: 0.0180 - accuracy: 0.9954\n",
            "Epoch 17/50\n",
            "1875/1875 [==============================] - 15s 8ms/step - loss: 0.0164 - accuracy: 0.9959\n",
            "Epoch 18/50\n",
            "1875/1875 [==============================] - 17s 9ms/step - loss: 0.0149 - accuracy: 0.9963\n",
            "Epoch 19/50\n",
            "1875/1875 [==============================] - 16s 9ms/step - loss: 0.0135 - accuracy: 0.9967\n",
            "Epoch 20/50\n",
            "1875/1875 [==============================] - 16s 9ms/step - loss: 0.0142 - accuracy: 0.9965\n",
            "Epoch 21/50\n",
            "1875/1875 [==============================] - 17s 9ms/step - loss: 0.0118 - accuracy: 0.9970\n",
            "Epoch 22/50\n",
            "1875/1875 [==============================] - 15s 8ms/step - loss: 0.0131 - accuracy: 0.9966\n",
            "Epoch 23/50\n",
            "1875/1875 [==============================] - 17s 9ms/step - loss: 0.0102 - accuracy: 0.9975\n",
            "Epoch 24/50\n",
            "1875/1875 [==============================] - 16s 9ms/step - loss: 0.0127 - accuracy: 0.9970\n",
            "Epoch 25/50\n",
            "1875/1875 [==============================] - 15s 8ms/step - loss: 0.0087 - accuracy: 0.9980\n",
            "Epoch 26/50\n",
            "1875/1875 [==============================] - 15s 8ms/step - loss: 0.0082 - accuracy: 0.9981\n",
            "Epoch 27/50\n",
            "1875/1875 [==============================] - 15s 8ms/step - loss: 0.0092 - accuracy: 0.9977\n",
            "Epoch 28/50\n",
            "1875/1875 [==============================] - 15s 8ms/step - loss: 0.0091 - accuracy: 0.9979\n",
            "Epoch 29/50\n",
            "1875/1875 [==============================] - 16s 9ms/step - loss: 0.0078 - accuracy: 0.9980\n",
            "Epoch 30/50\n",
            "1875/1875 [==============================] - 16s 9ms/step - loss: 0.0069 - accuracy: 0.9984\n",
            "Epoch 31/50\n",
            "1875/1875 [==============================] - 15s 8ms/step - loss: 0.0083 - accuracy: 0.9980\n",
            "Epoch 32/50\n",
            "1875/1875 [==============================] - 16s 8ms/step - loss: 0.0061 - accuracy: 0.9988\n",
            "Epoch 33/50\n",
            "1875/1875 [==============================] - 16s 8ms/step - loss: 0.0066 - accuracy: 0.9984\n",
            "Epoch 34/50\n",
            "1875/1875 [==============================] - 16s 9ms/step - loss: 0.0071 - accuracy: 0.9985\n",
            "Epoch 35/50\n",
            "1875/1875 [==============================] - 15s 8ms/step - loss: 0.0063 - accuracy: 0.9986\n",
            "Epoch 36/50\n",
            "1875/1875 [==============================] - 15s 8ms/step - loss: 0.0066 - accuracy: 0.9986\n",
            "Epoch 37/50\n",
            "1875/1875 [==============================] - 15s 8ms/step - loss: 0.0036 - accuracy: 0.9993\n",
            "Epoch 38/50\n",
            "1875/1875 [==============================] - 15s 8ms/step - loss: 0.0065 - accuracy: 0.9985\n",
            "Epoch 39/50\n",
            "1875/1875 [==============================] - 15s 8ms/step - loss: 0.0061 - accuracy: 0.9986\n",
            "Epoch 40/50\n",
            "1875/1875 [==============================] - 15s 8ms/step - loss: 0.0059 - accuracy: 0.9987\n",
            "Epoch 41/50\n",
            "1875/1875 [==============================] - 17s 9ms/step - loss: 0.0044 - accuracy: 0.9991\n",
            "Epoch 42/50\n",
            "1875/1875 [==============================] - 16s 9ms/step - loss: 0.0051 - accuracy: 0.9989\n",
            "Epoch 43/50\n",
            "1875/1875 [==============================] - 16s 8ms/step - loss: 0.0049 - accuracy: 0.9988\n",
            "Epoch 44/50\n",
            "1875/1875 [==============================] - 16s 9ms/step - loss: 0.0052 - accuracy: 0.9987\n",
            "Epoch 45/50\n",
            "1875/1875 [==============================] - 16s 9ms/step - loss: 0.0021 - accuracy: 0.9996\n",
            "Epoch 46/50\n",
            "1875/1875 [==============================] - 16s 9ms/step - loss: 0.0054 - accuracy: 0.9987\n",
            "Epoch 47/50\n",
            "1875/1875 [==============================] - 15s 8ms/step - loss: 0.0037 - accuracy: 0.9991\n",
            "Epoch 48/50\n",
            "1875/1875 [==============================] - 15s 8ms/step - loss: 0.0045 - accuracy: 0.9988\n",
            "Epoch 49/50\n",
            "1875/1875 [==============================] - 16s 9ms/step - loss: 0.0043 - accuracy: 0.9990\n",
            "Epoch 50/50\n",
            "1875/1875 [==============================] - 16s 8ms/step - loss: 0.0034 - accuracy: 0.9990\n",
            "313/313 [==============================] - 2s 5ms/step - loss: 0.0704 - accuracy: 0.9878\n"
          ]
        }
      ],
      "source": [
        "model_M5.compile(optimizer=tf.keras.optimizers.Adam(learning_rate=0.001,beta_1=0.98)\n",
        "              ,loss=tf.keras.losses.SparseCategoricalCrossentropy(from_logits=True),\n",
        "              metrics=['accuracy']) #Optimization\n",
        "z_train=model_M5.fit(x_train,y_train,epochs=50) #Model Training. You can try epochs=150 too.\n",
        "z_test=model_M5.evaluate(x_test,y_test) #Model evaluation on Test data"
      ]
    },
    {
      "cell_type": "markdown",
      "source": [
        "#Evaluation Graph"
      ],
      "metadata": {
        "id": "6LHMRp2oyyyn"
      },
      "id": "6LHMRp2oyyyn"
    },
    {
      "cell_type": "code",
      "execution_count": 19,
      "id": "7fd44951",
      "metadata": {
        "id": "7fd44951",
        "colab": {
          "base_uri": "https://localhost:8080/"
        },
        "outputId": "cd9998c9-538e-408f-ef9b-7188fad00209"
      },
      "outputs": [
        {
          "output_type": "execute_result",
          "data": {
            "text/plain": [
              "dict_keys(['loss', 'accuracy'])"
            ]
          },
          "metadata": {},
          "execution_count": 19
        }
      ],
      "source": [
        "z_train.history.keys()"
      ]
    },
    {
      "cell_type": "code",
      "execution_count": 31,
      "id": "6eea8e37",
      "metadata": {
        "id": "6eea8e37",
        "colab": {
          "base_uri": "https://localhost:8080/",
          "height": 295
        },
        "outputId": "f42b96d1-414e-4b15-a5dd-3b37598c8f6c"
      },
      "outputs": [
        {
          "output_type": "display_data",
          "data": {
            "text/plain": [
              "<Figure size 432x288 with 1 Axes>"
            ],
            "image/png": "[encoded data removed]"
          },
          "metadata": {
            "needs_background": "light"
          }
        }
      ],
      "source": [
        "\n",
        "training_accuracy=z_train.history[\"accuracy\"] #Accuracy on training data\n",
        "plt.plot(training_accuracy) #ploting curve\n",
        "plt.ylabel(\"Accuracy\")\n",
        "plt.xlabel(\"Epochs\")\n",
        "plt.title(\"M5 model Evaluation\")\n",
        "plt.legend([\"Train\"])\n",
        "plt.show()"
      ]
    },
    {
      "cell_type": "code",
      "source": [],
      "metadata": {
        "id": "RKyxWmQUBYRy"
      },
      "id": "RKyxWmQUBYRy",
      "execution_count": null,
      "outputs": []
    }
  ],
  "metadata": {
    "kernelspec": {
      "display_name": "Python 3 (ipykernel)",
      "language": "python",
      "name": "python3"
    },
    "language_info": {
      "codemirror_mode": {
        "name": "ipython",
        "version": 3
      },
      "file_extension": ".py",
      "mimetype": "text/x-python",
      "name": "python",
      "nbconvert_exporter": "python",
      "pygments_lexer": "ipython3",
      "version": "3.9.15"
    },
    "colab": {
      "provenance": [],
      "include_colab_link": true
    },
    "gpuClass": "standard",
    "accelerator": "GPU"
  },
  "nbformat": 4,
  "nbformat_minor": 5
}