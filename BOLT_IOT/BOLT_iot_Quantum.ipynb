{
 "cells": [
  {
   "cell_type": "markdown",
   "id": "30add39e",
   "metadata": {},
   "source": [
    "<h2> Bolt IOT meets Quantum</h2>"
   ]
  },
  {
   "cell_type": "markdown",
   "id": "19c040b2",
   "metadata": {},
   "source": [
    "<h2> Superdense Coding </h2>\n",
    "<p>Superdense Coding is an Quantum protocol .This file demonstrates Superdense Coding using classical protocols (MQTT,HTTP)</p>\n",
    "You can refer to : <a href=\"https://qiskit.org/textbook/ch-algorithms/superdense-coding.html\" > Qiskit_Book</a>\n"
   ]
  },
  {
   "cell_type": "code",
   "execution_count": 1,
   "id": "0a6ab476",
   "metadata": {},
   "outputs": [],
   "source": [
    "from boltiot import Bolt\n",
    "from qiskit import *"
   ]
  },
  {
   "cell_type": "code",
   "execution_count": 2,
   "id": "e3aa45fc",
   "metadata": {},
   "outputs": [],
   "source": [
    "%matplotlib inline"
   ]
  },
  {
   "cell_type": "code",
   "execution_count": 3,
   "id": "4832c738",
   "metadata": {},
   "outputs": [],
   "source": [
    "#Device Credentials\n",
    "api_key =\"XXXXXXXXXXXXXXXXXXXXXXXXX\" #BOLT CLoud api_key\n",
    "device_id  = \"BOLTXXXXXXXX\"  #BOLT Device id\n",
    "mybolt = Bolt(api_key, device_id)"
   ]
  },
  {
   "cell_type": "markdown",
   "id": "7a691da6",
   "metadata": {},
   "source": [
    "<h2> Entangling qubits(Charlie) </h2>"
   ]
  },
  {
   "cell_type": "code",
   "execution_count": 4,
   "id": "d02cad22",
   "metadata": {},
   "outputs": [
    {
     "data": {
      "image/png": "[encoded data removed]",
      "text/plain": [
       "<Figure size 267.052x144.48 with 1 Axes>"
      ]
     },
     "execution_count": 4,
     "metadata": {},
     "output_type": "execute_result"
    }
   ],
   "source": [
    "circuit =QuantumCircuit(2)\n",
    "circuit.h(0)\n",
    "circuit.cx(0,1)\n",
    "circuit.barrier()\n",
    "circuit.draw(output='mpl')"
   ]
  },
  {
   "cell_type": "markdown",
   "id": "3c935c6c",
   "metadata": {},
   "source": [
    "<h2> Transmitting Message (Alice) </h2>"
   ]
  },
  {
   "cell_type": "code",
   "execution_count": 5,
   "id": "0e642bdc",
   "metadata": {},
   "outputs": [],
   "source": [
    "#Message to transmit\n",
    "classical_msg='11'"
   ]
  },
  {
   "cell_type": "code",
   "execution_count": 6,
   "id": "82017cd9",
   "metadata": {},
   "outputs": [],
   "source": [
    "#Making circuit and Transmitting message as accord with protocol.\n",
    "if classical_msg=='01':\n",
    "    circuit.x(0)\n",
    "    mybolt.digitalWrite('0','HIGH')\n",
    "    mybolt.digitalWrite('1','LOW')\n",
    "elif classical_msg=='10':\n",
    "    circuit.z(0)\n",
    "    mybolt.digitalWrite('0','LOW')\n",
    "    mybolt.digitalWrite('1','HIGH')\n",
    "elif classical_msg=='11':\n",
    "    circuit.z(0)\n",
    "    circuit.x(0)\n",
    "    mybolt.digitalWrite('0','HIGH')\n",
    "    mybolt.digitalWrite('1','HIGH')\n",
    "else:\n",
    "    circuit.i(0)\n",
    "    mybolt.digitalWrite('0','LOW')\n",
    "    mybolt.digitalWrite('1','LOW')"
   ]
  },
  {
   "cell_type": "code",
   "execution_count": 7,
   "id": "2e402651",
   "metadata": {},
   "outputs": [
    {
     "data": {
      "image/png": "[encoded data removed]",
      "text/plain": [
       "<Figure size 447.652x144.48 with 1 Axes>"
      ]
     },
     "execution_count": 7,
     "metadata": {},
     "output_type": "execute_result"
    }
   ],
   "source": [
    "circuit.barrier()\n",
    "circuit.draw(output='mpl')"
   ]
  },
  {
   "cell_type": "markdown",
   "id": "34d39e51",
   "metadata": {},
   "source": [
    "<h2>Receiving message (Bob) </h2>"
   ]
  },
  {
   "cell_type": "code",
   "execution_count": 8,
   "id": "cd208912",
   "metadata": {},
   "outputs": [
    {
     "data": {
      "image/png": "[encoded data removed]",
      "text/plain": [
       "<Figure size 779.079x204.68 with 1 Axes>"
      ]
     },
     "execution_count": 8,
     "metadata": {},
     "output_type": "execute_result"
    }
   ],
   "source": [
    "# Receiving Message and measurinig it.\n",
    "circuit.cx(0,1)\n",
    "circuit.h(0)\n",
    "circuit.measure_all()\n",
    "circuit.draw(output='mpl')"
   ]
  },
  {
   "cell_type": "markdown",
   "id": "1a937b08",
   "metadata": {},
   "source": [
    "<h2>Visualization</h2>"
   ]
  },
  {
   "cell_type": "code",
   "execution_count": 9,
   "id": "c393591b",
   "metadata": {},
   "outputs": [],
   "source": [
    "from qiskit.tools.visualization import plot_histogram"
   ]
  },
  {
   "cell_type": "code",
   "execution_count": 10,
   "id": "5e74b8db",
   "metadata": {},
   "outputs": [
    {
     "data": {
      "image/png": "[encoded data removed]",
      "text/plain": [
       "<Figure size 504x360 with 1 Axes>"
      ]
     },
     "execution_count": 10,
     "metadata": {},
     "output_type": "execute_result"
    }
   ],
   "source": [
    "simulator=Aer.get_backend('qasm_simulator')\n",
    "results =execute(circuit,backend=simulator ,shots=1024).result()\n",
    "counts=results.get_counts(circuit)\n",
    "plot_histogram(counts)"
   ]
  },
  {
   "cell_type": "markdown",
   "id": "22f36c8b",
   "metadata": {},
   "source": [
    "<h3><b> NOTE:</b> There is  a difference between MSB and LSB convention of Qiskit and digital electronics. I have used digital electronics convention </h3>"
   ]
  },
  {
   "cell_type": "code",
   "execution_count": 11,
   "id": "df2f4104",
   "metadata": {},
   "outputs": [],
   "source": [
    "#State which have high probability will be decoded as recieved message.\n",
    "max_counts =max(counts)\n",
    "#Changing LED states as per received message\n",
    "if max_counts=='01':\n",
    "    mybolt.digitalWrite('0','LOW')\n",
    "    mybolt.digitalWrite('1','HIGH')\n",
    "elif max_counts=='10':\n",
    "    mybolt.digitalWrite('0','HIGH')\n",
    "    mybolt.digitalWrite('1','LOW')\n",
    "elif max_counts=='11':\n",
    "    mybolt.digitalWrite('0','HIGH')\n",
    "    mybolt.digitalWrite('1','HIGH')\n",
    "else:\n",
    "    mybolt.digitalWrite('0','LOW')\n",
    "    mybolt.digitalWrite('1','LOW')"
   ]
  },
  {
   "cell_type": "code",
   "execution_count": 12,
   "id": "19979c15",
   "metadata": {},
   "outputs": [
    {
     "data": {
      "text/plain": [
       "'{\"success\": \"0\", \"message\": \"A Connection error occurred\"}'"
      ]
     },
     "execution_count": 12,
     "metadata": {},
     "output_type": "execute_result"
    }
   ],
   "source": [
    "#Switching OFF LEDS\n",
    "mybolt.digitalWrite('1','LOW')\n",
    "mybolt.digitalWrite('0','LOW')\n"
   ]
  },
  {
   "cell_type": "code",
   "execution_count": null,
   "id": "7970d9f0",
   "metadata": {},
   "outputs": [],
   "source": []
  },
  {
   "cell_type": "code",
   "execution_count": null,
   "id": "1e85319d",
   "metadata": {},
   "outputs": [],
   "source": []
  }
 ],
 "metadata": {
  "kernelspec": {
   "display_name": "Python 3 (ipykernel)",
   "language": "python",
   "name": "python3"
  },
  "language_info": {
   "codemirror_mode": {
    "name": "ipython",
    "version": 3
   },
   "file_extension": ".py",
   "mimetype": "text/x-python",
   "name": "python",
   "nbconvert_exporter": "python",
   "pygments_lexer": "ipython3",
   "version": "3.9.7"
  }
 },
 "nbformat": 4,
 "nbformat_minor": 5
}
