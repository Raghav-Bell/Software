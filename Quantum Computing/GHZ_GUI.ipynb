{
 "cells": [
  {
   "cell_type": "markdown",
   "id": "6f140ed1",
   "metadata": {},
   "source": [
    "<h1> GUI for GHZ state  </h1>"
   ]
  },
  {
   "cell_type": "code",
   "execution_count": 1,
   "id": "df0e87ba",
   "metadata": {},
   "outputs": [],
   "source": [
    "from qiskit import *\n",
    "import tkinter as tk"
   ]
  },
  {
   "cell_type": "code",
   "execution_count": 2,
   "id": "5d71ead0",
   "metadata": {},
   "outputs": [],
   "source": [
    "%matplotlib inline"
   ]
  },
  {
   "cell_type": "code",
   "execution_count": 3,
   "id": "bd7a12db",
   "metadata": {},
   "outputs": [],
   "source": [
    "def GHZ():\n",
    "    m=int(ent.get())\n",
    "    if m==1:\n",
    "            print(\"You need atleast 2-qubits for GHZ state.\")\n",
    "    else:\n",
    "        qc=QuantumCircuit(m)\n",
    "        qc.h(0)\n",
    "        for k in range(m-1):\n",
    "            qc.cx(k,k+1)\n",
    "        qc.measure_all()\n",
    "        return qc\n",
    "    "
   ]
  },
  {
   "cell_type": "code",
   "execution_count": 4,
   "id": "75bef0a9",
   "metadata": {},
   "outputs": [
    {
     "name": "stdout",
     "output_type": "stream",
     "text": [
      "        ┌───┐           ░ ┌─┐      \n",
      "   q_0: ┤ H ├──■────────░─┤M├──────\n",
      "        └───┘┌─┴─┐      ░ └╥┘┌─┐   \n",
      "   q_1: ─────┤ X ├──■───░──╫─┤M├───\n",
      "             └───┘┌─┴─┐ ░  ║ └╥┘┌─┐\n",
      "   q_2: ──────────┤ X ├─░──╫──╫─┤M├\n",
      "                  └───┘ ░  ║  ║ └╥┘\n",
      "meas: 3/═══════════════════╩══╩══╩═\n",
      "                           0  1  2 \n"
     ]
    }
   ],
   "source": [
    "window=tk.Tk()\n",
    "window.title(\"GHZ state\")\n",
    "window.rowconfigure([0,1] , minsize=40, weight=1)\n",
    "window.columnconfigure([0,1, 2 ,3] , minsize=40, weight=1)\n",
    "\n",
    "frame= tk.Frame(master=window)\n",
    "label=tk.Label(master=frame , text=\"Enter number of Qubits:\")\n",
    "ent=tk.Entry(master=frame,width=5)\n",
    "but=tk.Button(master=frame, text=\"Entangle\" , fg=\"white\",bg=\"blue\", command=GHZ)\n",
    "but2=tk.Button(master=frame, text=\"Print\" , fg=\"white\",bg=\"green\" , command=lambda:print(GHZ()))\n",
    "\n",
    "frame.grid(row=0,column=0,sticky=\"news\")\n",
    "label.grid(row=0,column=0,sticky=\"w\")\n",
    "ent.grid(row=0,column=1,sticky=\"w\")\n",
    "but.grid(row=1, column=2,sticky=\"e\", padx=10,pady=10)\n",
    "but2.grid(row=1,column=3,sticky=\"e\" ,padx=10, pady=10)\n",
    "window.mainloop()"
   ]
  },
  {
   "cell_type": "code",
   "execution_count": null,
   "id": "d0bdb610",
   "metadata": {},
   "outputs": [],
   "source": []
  },
  {
   "cell_type": "code",
   "execution_count": null,
   "id": "7047d42a",
   "metadata": {},
   "outputs": [],
   "source": []
  }
 ],
 "metadata": {
  "kernelspec": {
   "display_name": "Python 3 (ipykernel)",
   "language": "python",
   "name": "python3"
  },
  "language_info": {
   "codemirror_mode": {
    "name": "ipython",
    "version": 3
   },
   "file_extension": ".py",
   "mimetype": "text/x-python",
   "name": "python",
   "nbconvert_exporter": "python",
   "pygments_lexer": "ipython3",
   "version": "3.8.12"
  }
 },
 "nbformat": 4,
 "nbformat_minor": 5
}
